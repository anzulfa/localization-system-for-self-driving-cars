{
 "cells": [
  {
   "cell_type": "code",
   "execution_count": 26,
   "metadata": {},
   "outputs": [
    {
     "data": {
      "text/plain": [
       "'/home/win'"
      ]
     },
     "execution_count": 26,
     "metadata": {},
     "output_type": "execute_result"
    }
   ],
   "source": [
    "import os\n",
    "wd = \n",
    "wd"
   ]
  },
  {
   "cell_type": "code",
   "execution_count": 1,
   "metadata": {},
   "outputs": [],
   "source": [
    "# to do: \n",
    "# pindah ke path yg bener dan semua files pengikutnya disesuaiin (LAUNCH gimana ya)\n",
    "# numpy yg penting cuman buat arg sort ga si (cuman di fungsi ambil bag berarti?)\n",
    "\n",
    "#     apus semua path file di folder d di awal launch - check\n",
    "#     coba pengganti ! (%?) buat di py biasa\n",
    "#     early stopping callback\n",
    "#     tambain plot realtime progres eror di to do (berat)\n",
    "    # to do ga masukin readme - check\n",
    "    # make the parameters vars customized (berat_)\n",
    "    # SEMUA yg panjang2 di main dijadiin function#     mutasi, dll jadi fungsi masing2. mungkin dalem kelas baru namanya ga.\n",
    "\n",
    "    #output tuned.yaml di akhir proses loop (baik setelah akhir generasi atau callback) -hampir check?\n",
    "\n",
    "# file2 tambahan yg perlu diupload juga:\n",
    "#     bag sensor (?)\n",
    "#     bagtemp\n",
    "#     launch file (udah ada harusnya cari lokasinya)\n",
    "#     folder path\n",
    "#     YAMLLL"
   ]
  },
  {
   "cell_type": "markdown",
   "metadata": {},
   "source": [
    "credits to the **YOLO v4 implementation of generic algorithm for hyperparameters tuning** that serves to assist the contributors in understanding the algorithm implementation (and a few lines here and there taken directly and sometimes almost identically from their repo sure were much appreciated!)\n",
    "\n",
    "**Abel**, **Adam**, and **Gilbert**, who were much help when we at (so many) times faced difficulties in understanding whatever it is of the algorithm we haven't gotten quite the hang yet; thank you.\""
   ]
  },
  {
   "cell_type": "code",
   "execution_count": 2,
   "metadata": {
    "scrolled": false
   },
   "outputs": [],
   "source": [
    "import numpy as np\n",
    "import pandas as pd\n",
    "import rosbag\n",
    "import os\n",
    "import yaml\n",
    "import random\n",
    "import math as m\n",
    "from scipy.spatial.distance import cdist\n",
    "from math import sqrt\n",
    "import matplotlib.pyplot as plt\n",
    "from sklearn.metrics import mean_squared_error as mse, mean_absolute_error"
   ]
  },
  {
   "cell_type": "code",
   "execution_count": null,
   "metadata": {
    "scrolled": true
   },
   "outputs": [],
   "source": [
    "cwd = !pwd\n",
    "wd = os.getcwd() #the working directory (wd) and \n",
    "pwd = os.path.dirname(wd) #the parent of the wd (pwd)\n",
    "cwd,wd,pwd"
   ]
  },
  {
   "cell_type": "markdown",
   "metadata": {},
   "source": [
    "ganti yaml tiap awal generasi"
   ]
  },
  {
   "cell_type": "code",
   "execution_count": 51,
   "metadata": {},
   "outputs": [],
   "source": [
    "#function for changing the parameter values (YAML file is used for the params to be called from the main UKF program)\n",
    "def params_yaml(p,q,temp=False):\n",
    "    #read\n",
    "    temp_yaml_dir = pwd + '/config/temp.yaml'\n",
    "    with open(temp_yaml_dir) as read_temp_yaml:             \n",
    "        params = yaml.safe_load(read_temp_yaml)\n",
    "    if q is not None:\n",
    "        params['process_noise_covariance_Q'] = q\n",
    "        params['initial_estimate_covariance_P'] = p\n",
    "    \n",
    "    #write and save\n",
    "    if temp: #temp\n",
    "        with open(temp_yaml_dir,'w') as write_temp_yaml:    \n",
    "            yaml.safe_dump(params, write_temp_yaml, indent=2, allow_unicode=False) #dah berhasil ni     \n",
    "    else: #best\n",
    "        best_yaml_dir = pwd + '/config/tuned.yaml'\n",
    "        with open(best_yaml_dir,'w') as write_best_yaml:      \n",
    "            yaml.safe_dump(params, write_best_yaml, indent=2, allow_unicode=False)\n",
    "        print(\"Optimization is all done and the best params are now saved to {}\".format(best_yaml_dir))"
   ]
  },
  {
   "cell_type": "code",
   "execution_count": 52,
   "metadata": {
    "scrolled": false
   },
   "outputs": [],
   "source": [
    "# # function for changing the parameter values (YAML file is used for the params to be called from the main UKF program)\n",
    "# # one of the more crucials functionality as well: the ability of dumping yaml file from python\n",
    "# def change_params_yaml(p,q):\n",
    "#     yaml_dir = pwd + 'config/ukf_params.yaml'\n",
    "#     with open(yaml_dir) as tes:             \n",
    "#         doc=yaml.safe_load(tes)\n",
    "#     if q:\n",
    "#         doc['process_noise_covariance_Q'] = q\n",
    "#         doc['initial_estimate_covariance_P'] = p\n",
    "   \n",
    "#     with open(yaml_dir,'w') as tes:\n",
    "#         yaml.safe_dump(doc, tes, indent=2, allow_unicode=False) #dah berhasil ni     "
   ]
  },
  {
   "cell_type": "markdown",
   "metadata": {},
   "source": [
    "jalanin roslaunch berisi rosbag play, ukf dengan yaml baru untuk setiap generasi, dan rosbag record"
   ]
  },
  {
   "cell_type": "code",
   "execution_count": 64,
   "metadata": {
    "scrolled": false
   },
   "outputs": [],
   "source": [
    "# function for launching the 3 nodes: rosbag play back, the ukf algorithm, the recording of the rosbag to a temporary rosbag file that saves the estimation from the UKF\n",
    "# the ntoebook (with !) and python (with %?) capability to run terminal command is VERY crucial in making this tuning possible in the ROS environment. It was the one thing that was going to be the make or break.\n",
    "def launch():\n",
    "#     !\n",
    "    !roslaunch /home/win/Kode/localization_system/launch/launch_for_ga.launch\n",
    "    # is not str WKWKWKWK gimana ya bair keren dipakein pwd nya.\n",
    "    # eh kan kalo di cmd line mala lebih gampang buat ngerun file dari folder laen?"
   ]
  },
  {
   "cell_type": "markdown",
   "metadata": {},
   "source": [
    "jalanin rosbag import cari rmse"
   ]
  },
  {
   "cell_type": "code",
   "execution_count": 65,
   "metadata": {
    "scrolled": false
   },
   "outputs": [],
   "source": [
    "def err(est, gt, t_est, t_gt):\n",
    "    j = 1\n",
    "    sample_est = []\n",
    "    sample_gt = []\n",
    "    for i in range(1, len(t_gt)):\n",
    "        while (t_gt[i] > t_est[j]):\n",
    "            j += 1\n",
    "            \n",
    "        sample_est.append(est[j])\n",
    "        sample_gt.append(gt[i])\n",
    "    rmse=sqrt(mse(sample_gt, sample_est))\n",
    "    mae=mean_absolute_error(sample_gt, sample_est)\n",
    "    print(\"rmse: \"+str(rmse)+\"\\nmae: \"+str(mae))\n",
    "    return rmse,mae\n",
    "\n",
    "#function for loading the estimation values recorded in the temporary bag file\n",
    "def ambil_bag():\n",
    "    bag = rosbag.Bag(pwd + '/bag/ga_temp.bag') #bagnya perlu udah ada ga ya? kayanya ngga, soalnya dibuatin dari launch filenya\n",
    "#     print(bag)\n",
    "    states_xy=[]\n",
    "    states_xy_baru=[]\n",
    "    t = []\n",
    "\n",
    "    for topic, msg, time in bag.read_messages(topics=['/ukf_states']):\n",
    "        states_xy.append([msg.x,msg.y])\n",
    "        t.append(msg.stamp.to_sec())\n",
    "    \n",
    "    states_xy = np.array(states_xy)\n",
    "    t = np.array(t)\n",
    "    \n",
    "    states_xy = states_xy[np.all(states_xy != 0,axis = 1)] #buang yg 0\n",
    "    states_xy = states_xy[np.all(~np.isnan(states_xy),axis = 1)] #buang yg nan\n",
    "    t = t[t != 0]\n",
    "\n",
    "    utm=[]\n",
    "    utm_baru=[]\n",
    "    t_utm = []\n",
    "\n",
    "    for topic, msg, time in bag.read_messages(topics=['/utm']):\n",
    "        utm.append([msg.pose.pose.position.x,msg.pose.pose.position.y])\n",
    "        t_utm.append(time.to_sec())\n",
    "\n",
    "    utm = np.array(utm)\n",
    "    t_utm = np.array(t_utm)\n",
    "    min = utm[0]\n",
    "\n",
    "    for i in range(len(states_xy)):\n",
    "        states_xy_baru.append([states_xy[i,0]-min[0],states_xy[i,1]-min[1]])\n",
    "\n",
    "    states_xy_baru=np.array(states_xy_baru)\n",
    "    \n",
    "    for i in range(len(utm)):\n",
    "        utm_baru.append([utm[i,0]-min[0],utm[i,1]-min[1]])\n",
    "\n",
    "    utm_baru=np.array(utm_baru)\n",
    "    return states_xy_baru, utm_baru, t, t_utm"
   ]
  },
  {
   "cell_type": "code",
   "execution_count": 66,
   "metadata": {
    "scrolled": false
   },
   "outputs": [],
   "source": [
    "# #function for fitness evaluation\n",
    "# def fitness(rmse_groundtruth):\n",
    "#     return 1/rmse_groundtruth"
   ]
  },
  {
   "cell_type": "code",
   "execution_count": 67,
   "metadata": {
    "scrolled": false
   },
   "outputs": [],
   "source": [
    "#function for plotting the estimation and the (unextended) GNSS points \n",
    "def plot(estimasi,gnss):\n",
    "    plt.figure(figsize=(10,10))\n",
    "    matplotlib.style.use('default')\n",
    "\n",
    "    plt.scatter(estimasi[:,0],estimasi[:,1],s=2.,color='k') #odometry/filtered_map\n",
    "    plt.scatter(gnss[:,0],gnss[:,1],s=5.,marker=\"x\",c='C3',alpha=1)\n",
    "    plt.show()"
   ]
  },
  {
   "cell_type": "code",
   "execution_count": 68,
   "metadata": {
    "scrolled": false
   },
   "outputs": [],
   "source": [
    "# function for saving the acquired parameter values to an external .txt file\n",
    "def catat(ptemp,qtemp,errortemp,fitnesstemp,p_path,q_path,error_path,error_bygen_path,fitness_path):\n",
    "    p = '%14.4g' * len(ptemp) % tuple(ptemp)\n",
    "    q = '%14.4g' * len(qtemp) % tuple(qtemp)\n",
    "    print('catat p q', p, q)\n",
    "    error = str(errortemp)\n",
    "    fitness = str(fitnesstemp)\n",
    "    \n",
    "    # adding new information to the temp files\n",
    "    with open(p_path, 'a') as h:  \n",
    "        h.write(p + '\\n')\n",
    "    with open(q_path, 'a') as h: \n",
    "        h.write(q + '\\n')\n",
    "    with open(error_path, 'a') as h:  \n",
    "        h.write(error + '\\n')\n",
    "    with open(error_bygen_path, 'a') as h:  \n",
    "        h.write(error + '\\n')\n",
    "    with open(fitness_path, 'a') as h:  \n",
    "        h.write(fitness + '\\n')\n",
    "        \n",
    "    # loading the recently modified temp files nto numpy (for easier sort ith argsort)\n",
    "    x_q=np.loadtxt(q_path, ndmin=2)  \n",
    "    x_p=np.loadtxt(p_path, ndmin=2) \n",
    "    x_error=np.loadtxt(error_path, ndmin=2)\n",
    "#     x_error_bygen=np.loadtxt(error_bygen_path, ndmin=2)\n",
    "    x_fitness=np.loadtxt(fitness_path, ndmin=2)\n",
    "    \n",
    "    x_fitness_f=x_fitness.flatten()\n",
    "    \n",
    "    # saving the temps but sorted by its corresponding fitness value\n",
    "\n",
    "    np.savetxt(p_path, x_p[np.argsort(-x_fitness_f)], '%10.5g')\n",
    "    np.savetxt(q_path, x_q[np.argsort(-x_fitness_f)], '%10.5g')\n",
    "    np.savetxt(error_path, x_error[np.argsort(-x_fitness_f)], '%10.5g')\n",
    "#     np.savetxt(error_bygen_path, x_error_bygen, '%10.5g') #savenya berdasarkan error, loadnya berdasarkan fitness\n",
    "    np.savetxt(fitness_path, x_fitness[np.argsort(-x_fitness_f)], '%10.5g')  #[np.argsortnya ini nambah dimensi]"
   ]
  },
  {
   "cell_type": "code",
   "execution_count": 69,
   "metadata": {},
   "outputs": [],
   "source": [
    "# delete all files in the path directory before launching\n",
    "def clear_path(folder):\n",
    "    os_folder = os.listdir(folder)\n",
    "    if os_folder:\n",
    "        for f in os_folder:\n",
    "            os.remove(os.path.join(folder, f))\n",
    "        print(\"Parameters' path is cleared!\")\n",
    "    else:\n",
    "        print(\"Parameters' path is already clear!\")"
   ]
  },
  {
   "cell_type": "code",
   "execution_count": 70,
   "metadata": {},
   "outputs": [],
   "source": [
    "def init_pq(p_diag, q_diag):\n",
    "    p, q = [[0,]*25]*2\n",
    "    for i,j in enumerate(range(0,25,6)):\n",
    "        p[j], q[j] = p_diag[i], q_diag[i]\n",
    "    return p, q"
   ]
  },
  {
   "cell_type": "code",
   "execution_count": 71,
   "metadata": {},
   "outputs": [],
   "source": [
    "def load_from_path(to_load):\n",
    "    vars = {}\n",
    "    for load in to_load:\n",
    "        vars[load] = np.loadtxt(path[load], ndmin=2)\n",
    "    return vars"
   ]
  },
  {
   "cell_type": "code",
   "execution_count": 72,
   "metadata": {},
   "outputs": [
    {
     "data": {
      "text/plain": [
       "{'error': '/home/win/Kode/localization_system/logs/error_path.txt',\n",
       " 'error_bygen': '/home/win/Kode/localization_system/logs/error_bygen_path.txt',\n",
       " 'fitness': '/home/win/Kode/localization_system/logs/fitness_path.txt',\n",
       " 'p': '/home/win/Kode/localization_system/logs/p_path.txt',\n",
       " 'q': '/home/win/Kode/localization_system/logs/q_path.txt'}"
      ]
     },
     "execution_count": 72,
     "metadata": {},
     "output_type": "execute_result"
    }
   ],
   "source": [
    "path"
   ]
  },
  {
   "cell_type": "code",
   "execution_count": 74,
   "metadata": {
    "scrolled": false
   },
   "outputs": [
    {
     "name": "stdout",
     "output_type": "stream",
     "text": [
      "Parameters' path is already clear!\n",
      "----------------------------------------------------------------------------------------------------\n",
      "Generasi ke-1 dari 2\n",
      "... logging to /home/win/.ros/log/f6e06f4a-a446-11eb-92da-f0038c0a96db/roslaunch-win-ubuntu-13586.log\n",
      "Checking log directory for disk usage. This may take a while.\n",
      "Press Ctrl-C to interrupt\n",
      "Done checking log file disk usage. Usage is <1GB.\n",
      "\u001b]2;/home/win/Kode/localization_system/launch/launch_for_ga.launch\u0007\n",
      "\u001b[31mResource not found: localization_system\n",
      "ROS path [0]=/opt/ros/melodic/share/ros\n",
      "ROS path [1]=/home/win/awin_ws/src/awin_gabung\n",
      "ROS path [2]=/home/win/awin_ws/src/geographic_info/geographic_info\n",
      "ROS path [3]=/home/win/awin_ws/src/geographic_info/geographic_msgs\n",
      "ROS path [4]=/home/win/awin_ws/src/geographic_info/geodesy\n",
      "ROS path [5]=/home/win/awin_ws/src/urdf_learning/catkin_ws/src/golfcart/golfcart_2dnav\n",
      "ROS path [6]=/home/win/awin_ws/src/urdf_learning/catkin_ws/src/golfcart/golfcart_description\n",
      "ROS path [7]=/home/win/awin_ws/src/urdf_learning/catkin_ws/src/golfcart/golfcart_gazebo\n",
      "ROS path [8]=/home/win/awin_ws/src/golfi\n",
      "ROS path [9]=/home/win/awin_ws/src/golfi_localization\n",
      "ROS path [10]=/home/win/awin_ws/src/gps_umd/gps_common\n",
      "ROS path [11]=/home/win/awin_ws/src/gps_umd/gps_umd\n",
      "ROS path [12]=/home/win/awin_ws/src/gps_umd/gpsd_client\n",
      "ROS path [13]=/home/win/awin_ws/src/husky_highlevel_controller\n",
      "ROS path [14]=/home/win/awin_ws/src/imu_tools/imu_complementary_filter\n",
      "ROS path [15]=/home/win/awin_ws/src/imu_tools/imu_filter_madgwick\n",
      "ROS path [16]=/home/win/awin_ws/src/imu_tools/imu_tools\n",
      "ROS path [17]=/home/win/awin_ws/src/learning_tf\n",
      "ROS path [18]=/home/win/awin_ws/src/mapviz/mapviz\n",
      "ROS path [19]=/home/win/awin_ws/src/mapviz/mapviz_plugins\n",
      "ROS path [20]=/home/win/awin_ws/src/mapviz/multires_image\n",
      "ROS path [21]=/home/win/awin_ws/src/nmea_navsat_driver\n",
      "ROS path [22]=/home/win/awin_ws/src/open_street_map/osm_cartography\n",
      "ROS path [23]=/home/win/awin_ws/src/pkg_ta\n",
      "ROS path [24]=/home/win/awin_ws/src/razor_imu_9dof\n",
      "ROS path [25]=/home/win/awin_ws/src/reach_rs_ros_driver\n",
      "ROS path [26]=/home/win/awin_ws/src/robot_localization\n",
      "ROS path [27]=/home/win/awin_ws/src/geonav_transform\n",
      "ROS path [28]=/home/win/awin_ws/src/ros_robot_localization_tutorial/ros-ws/src/robot_localization_demo\n",
      "ROS path [29]=/home/win/awin_ws/src/open_street_map/route_network\n",
      "ROS path [30]=/home/win/awin_ws/src/imu_tools/rviz_imu_plugin\n",
      "ROS path [31]=/home/win/awin_ws/src/rviz_satellite\n",
      "ROS path [32]=/home/win/awin_ws/src/teleop_twist_keyboard\n",
      "ROS path [33]=/home/win/awin_ws/src/open_street_map/test_osm\n",
      "ROS path [34]=/home/win/awin_ws/src/mapviz/tile_map\n",
      "ROS path [35]=/home/win/awin_ws/src/urdf\n",
      "ROS path [36]=/home/win/awin_ws/src/urdf_learning/catkin_ws/src/ultah_atwin\n",
      "ROS path [37]=/opt/ros/melodic/share\u001b[0m\n",
      "\u001b[31mThe traceback for the exception was written to the log file\u001b[0m\n"
     ]
    },
    {
     "ename": "IOError",
     "evalue": "[Errno 2] No such file or directory: '/home/win/Kode/localization_system/bag/ga_temp.bag'",
     "output_type": "error",
     "traceback": [
      "\u001b[0;31m---------------------------------------------------------------------------\u001b[0m",
      "\u001b[0;31mIOError\u001b[0m                                   Traceback (most recent call last)",
      "\u001b[0;32m<ipython-input-74-a62275706536>\u001b[0m in \u001b[0;36m<module>\u001b[0;34m()\u001b[0m\n\u001b[1;32m     93\u001b[0m \u001b[0;34m\u001b[0m\u001b[0m\n\u001b[1;32m     94\u001b[0m     \u001b[0;31m# acquiring the fitness value by taking the estimation value from the temporary bag file (ga_temp.bag) and find the fitness from the error defined before\u001b[0m\u001b[0;34m\u001b[0m\u001b[0;34m\u001b[0m\u001b[0m\n\u001b[0;32m---> 95\u001b[0;31m     \u001b[0mhasil_ukf\u001b[0m\u001b[0;34m,\u001b[0m \u001b[0mutm\u001b[0m\u001b[0;34m,\u001b[0m \u001b[0mt_state\u001b[0m\u001b[0;34m,\u001b[0m \u001b[0mt_utm\u001b[0m \u001b[0;34m=\u001b[0m \u001b[0mambil_bag\u001b[0m\u001b[0;34m(\u001b[0m\u001b[0;34m)\u001b[0m\u001b[0;34m\u001b[0m\u001b[0m\n\u001b[0m\u001b[1;32m     96\u001b[0m \u001b[0;34m\u001b[0m\u001b[0m\n\u001b[1;32m     97\u001b[0m     \u001b[0mer_rmse\u001b[0m\u001b[0;34m,\u001b[0m \u001b[0mer_mae\u001b[0m \u001b[0;34m=\u001b[0m \u001b[0merr\u001b[0m\u001b[0;34m(\u001b[0m\u001b[0mhasil_ukf\u001b[0m\u001b[0;34m,\u001b[0m \u001b[0mutm\u001b[0m\u001b[0;34m,\u001b[0m \u001b[0mt_state\u001b[0m\u001b[0;34m,\u001b[0m \u001b[0mt_utm\u001b[0m\u001b[0;34m)\u001b[0m\u001b[0;34m\u001b[0m\u001b[0m\n",
      "\u001b[0;32m<ipython-input-65-e78b8afa02aa>\u001b[0m in \u001b[0;36mambil_bag\u001b[0;34m()\u001b[0m\n\u001b[1;32m     16\u001b[0m \u001b[0;31m#function for loading the estimation values recorded in the temporary bag file\u001b[0m\u001b[0;34m\u001b[0m\u001b[0;34m\u001b[0m\u001b[0m\n\u001b[1;32m     17\u001b[0m \u001b[0;32mdef\u001b[0m \u001b[0mambil_bag\u001b[0m\u001b[0;34m(\u001b[0m\u001b[0;34m)\u001b[0m\u001b[0;34m:\u001b[0m\u001b[0;34m\u001b[0m\u001b[0m\n\u001b[0;32m---> 18\u001b[0;31m     \u001b[0mbag\u001b[0m \u001b[0;34m=\u001b[0m \u001b[0mrosbag\u001b[0m\u001b[0;34m.\u001b[0m\u001b[0mBag\u001b[0m\u001b[0;34m(\u001b[0m\u001b[0mpwd\u001b[0m \u001b[0;34m+\u001b[0m \u001b[0;34m'/bag/ga_temp.bag'\u001b[0m\u001b[0;34m)\u001b[0m \u001b[0;31m#bagnya perlu udah ada ga ya? kayanya ngga, soalnya dibuatin dari launch filenya\u001b[0m\u001b[0;34m\u001b[0m\u001b[0m\n\u001b[0m\u001b[1;32m     19\u001b[0m \u001b[0;31m#     print(bag)\u001b[0m\u001b[0;34m\u001b[0m\u001b[0;34m\u001b[0m\u001b[0m\n\u001b[1;32m     20\u001b[0m     \u001b[0mstates_xy\u001b[0m\u001b[0;34m=\u001b[0m\u001b[0;34m[\u001b[0m\u001b[0;34m]\u001b[0m\u001b[0;34m\u001b[0m\u001b[0m\n",
      "\u001b[0;32m/opt/ros/melodic/lib/python2.7/dist-packages/rosbag/bag.pyc\u001b[0m in \u001b[0;36m__init__\u001b[0;34m(self, f, mode, compression, chunk_threshold, allow_unindexed, options, skip_index)\u001b[0m\n\u001b[1;32m    465\u001b[0m         \u001b[0mself\u001b[0m\u001b[0;34m.\u001b[0m\u001b[0m_encryptor\u001b[0m \u001b[0;34m=\u001b[0m \u001b[0m_ROSBagNoEncryptor\u001b[0m\u001b[0;34m(\u001b[0m\u001b[0;34m)\u001b[0m\u001b[0;34m\u001b[0m\u001b[0m\n\u001b[1;32m    466\u001b[0m \u001b[0;34m\u001b[0m\u001b[0m\n\u001b[0;32m--> 467\u001b[0;31m         \u001b[0mself\u001b[0m\u001b[0;34m.\u001b[0m\u001b[0m_open\u001b[0m\u001b[0;34m(\u001b[0m\u001b[0mf\u001b[0m\u001b[0;34m,\u001b[0m \u001b[0mmode\u001b[0m\u001b[0;34m,\u001b[0m \u001b[0mallow_unindexed\u001b[0m\u001b[0;34m)\u001b[0m\u001b[0;34m\u001b[0m\u001b[0m\n\u001b[0m\u001b[1;32m    468\u001b[0m \u001b[0;34m\u001b[0m\u001b[0m\n\u001b[1;32m    469\u001b[0m         \u001b[0mself\u001b[0m\u001b[0;34m.\u001b[0m\u001b[0m_output_file\u001b[0m \u001b[0;34m=\u001b[0m \u001b[0mself\u001b[0m\u001b[0;34m.\u001b[0m\u001b[0m_file\u001b[0m\u001b[0;34m\u001b[0m\u001b[0m\n",
      "\u001b[0;32m/opt/ros/melodic/lib/python2.7/dist-packages/rosbag/bag.pyc\u001b[0m in \u001b[0;36m_open\u001b[0;34m(self, f, mode, allow_unindexed)\u001b[0m\n\u001b[1;32m   1425\u001b[0m \u001b[0;34m\u001b[0m\u001b[0m\n\u001b[1;32m   1426\u001b[0m         \u001b[0;32mtry\u001b[0m\u001b[0;34m:\u001b[0m\u001b[0;34m\u001b[0m\u001b[0m\n\u001b[0;32m-> 1427\u001b[0;31m             \u001b[0;32mif\u001b[0m   \u001b[0mmode\u001b[0m \u001b[0;34m==\u001b[0m \u001b[0;34m'r'\u001b[0m\u001b[0;34m:\u001b[0m \u001b[0mself\u001b[0m\u001b[0;34m.\u001b[0m\u001b[0m_open_read\u001b[0m\u001b[0;34m(\u001b[0m\u001b[0mf\u001b[0m\u001b[0;34m,\u001b[0m \u001b[0mallow_unindexed\u001b[0m\u001b[0;34m)\u001b[0m\u001b[0;34m\u001b[0m\u001b[0m\n\u001b[0m\u001b[1;32m   1428\u001b[0m             \u001b[0;32melif\u001b[0m \u001b[0mmode\u001b[0m \u001b[0;34m==\u001b[0m \u001b[0;34m'w'\u001b[0m\u001b[0;34m:\u001b[0m \u001b[0mself\u001b[0m\u001b[0;34m.\u001b[0m\u001b[0m_open_write\u001b[0m\u001b[0;34m(\u001b[0m\u001b[0mf\u001b[0m\u001b[0;34m)\u001b[0m\u001b[0;34m\u001b[0m\u001b[0m\n\u001b[1;32m   1429\u001b[0m             \u001b[0;32melif\u001b[0m \u001b[0mmode\u001b[0m \u001b[0;34m==\u001b[0m \u001b[0;34m'a'\u001b[0m\u001b[0;34m:\u001b[0m \u001b[0mself\u001b[0m\u001b[0;34m.\u001b[0m\u001b[0m_open_append\u001b[0m\u001b[0;34m(\u001b[0m\u001b[0mf\u001b[0m\u001b[0;34m,\u001b[0m \u001b[0mallow_unindexed\u001b[0m\u001b[0;34m)\u001b[0m\u001b[0;34m\u001b[0m\u001b[0m\n",
      "\u001b[0;32m/opt/ros/melodic/lib/python2.7/dist-packages/rosbag/bag.pyc\u001b[0m in \u001b[0;36m_open_read\u001b[0;34m(self, f, allow_unindexed)\u001b[0m\n\u001b[1;32m   1447\u001b[0m             \u001b[0mself\u001b[0m\u001b[0;34m.\u001b[0m\u001b[0m_filename\u001b[0m \u001b[0;34m=\u001b[0m \u001b[0mNone\u001b[0m\u001b[0;34m\u001b[0m\u001b[0m\n\u001b[1;32m   1448\u001b[0m         \u001b[0;32melse\u001b[0m\u001b[0;34m:\u001b[0m\u001b[0;34m\u001b[0m\u001b[0m\n\u001b[0;32m-> 1449\u001b[0;31m             \u001b[0mself\u001b[0m\u001b[0;34m.\u001b[0m\u001b[0m_file\u001b[0m     \u001b[0;34m=\u001b[0m \u001b[0mopen\u001b[0m\u001b[0;34m(\u001b[0m\u001b[0mf\u001b[0m\u001b[0;34m,\u001b[0m \u001b[0;34m'rb'\u001b[0m\u001b[0;34m)\u001b[0m\u001b[0;34m\u001b[0m\u001b[0m\n\u001b[0m\u001b[1;32m   1450\u001b[0m             \u001b[0mself\u001b[0m\u001b[0;34m.\u001b[0m\u001b[0m_filename\u001b[0m \u001b[0;34m=\u001b[0m \u001b[0mf\u001b[0m\u001b[0;34m\u001b[0m\u001b[0m\n\u001b[1;32m   1451\u001b[0m \u001b[0;34m\u001b[0m\u001b[0m\n",
      "\u001b[0;31mIOError\u001b[0m: [Errno 2] No such file or directory: '/home/win/Kode/localization_system/bag/ga_temp.bag'"
     ]
    }
   ],
   "source": [
    "# initializing the parameter values\n",
    "p_diagonals = [10, 10, 10, 10, 1]\n",
    "q_diagonals = [10, 10, 10, 10, 1]\n",
    "p_temp, q_temp = init_pq(p_diagonals, q_diagonals)\n",
    "\n",
    "# define the max number of generations\n",
    "temp_folder = pwd + \"/logs/\"\n",
    "clear_path(temp_folder)\n",
    "\n",
    "params = ['p', 'q']\n",
    "errors_saved = ['error', 'error_bygen']\n",
    "temp_names = params + ['fitness'] + errors_saved\n",
    "to_load = params + ['fitness']\n",
    "\n",
    "# defining the filename for the values temps to be saved with\n",
    "path = {}\n",
    "for temp in temp_names:\n",
    "    path[temp] = temp_folder + temp + '_path.txt'\n",
    "\n",
    "generasi = 2\n",
    "for g in range(1, generasi+1):\n",
    "    print(\"----------------------------------------------------------------------------------------------------\")\n",
    "    print(\"Generasi ke-\"+ str(g) + \" dari \" + str(generasi))\n",
    "\n",
    "    if os.path.exists(path['p']): # load the saved parameters after the 1st generation\n",
    "        # backbone of GA under here\n",
    "        var = load_from_path(to_load)\n",
    "        p,q,fitness = var['p'],var['q'],var['fitness']\n",
    "        #selection\n",
    "        n = min(25, len(p)) #defining the max number of the individuals in the population\n",
    "        \n",
    "        batas_bawah=1e-03\n",
    "#         daftar_parameter= [p[0],q[0]] #saving the (best?) parameters in p and q as an array\n",
    "        \n",
    "        #crossover (recombination of values)\n",
    "        if g > 2: #picking the parents for the crossover\n",
    "            indeks_ortu1,indeks_ortu2=random.sample(range(0, n), 2)\n",
    "            p_ortu=p[[indeks_ortu1,indeks_ortu2],:]\n",
    "            q_ortu=q[[indeks_ortu1,indeks_ortu2],:]\n",
    "            fitness_ortu=fitness[[indeks_ortu1,indeks_ortu2],:]\n",
    "            \n",
    "            w1=fitness_ortu[0]/(fitness_ortu[0]+fitness_ortu[1])\n",
    "            p, q = np.ones(25), np.ones(25)\n",
    "\n",
    "            for j in range(25):\n",
    "                pilih_ortu_p,pilih_ortu_q=np.random.random(),np.random.random()\n",
    "                p[j]=(pilih_ortu_p<=w1)*p_ortu[0,j]+(pilih_ortu_p>w1)*p_ortu[1,j]\n",
    "                q[j]=(pilih_ortu_q<=w1)*q_ortu[0,j]+(pilih_ortu_q>w1)*q_ortu[1,j]\n",
    "\n",
    "        #mutation\n",
    "        mp, s=0.8, 6 #mutation probability and the multiplying factor defined\n",
    "        if g < 25: #the initial population number defined here\n",
    "            mp,s=1,10 #for initial population, mutation is used to randomly pick the values around the inital values defines before\n",
    "        penjumlah=[]\n",
    "        \n",
    "        apakah_mutasi=np.random.random()\n",
    "        # condition of mutation existing\n",
    "        if apakah_mutasi<mp: \n",
    "            for a in range(10):\n",
    "                penjumlah.append((np.random.normal(0,1))) \n",
    "        # condition of mutation not existing\n",
    "        else:\n",
    "            penjumlah=np.zeros(10) #no addition for mutation\n",
    "        \n",
    "        m_p, m_q=np.zeros(25), np.zeros(25)\n",
    "\n",
    "        i=0\n",
    "        for b in range(0,25,6):\n",
    "            m_p[b]=penjumlah[i]\n",
    "            i+=1\n",
    "        for c in range(0,25,6):\n",
    "            m_q[c]=penjumlah[i]\n",
    "            i+=1\n",
    "            \n",
    "        p_temp = (p+m_p).flatten().tolist()\n",
    "        q_temp = (q+m_q).flatten().tolist()\n",
    "        \n",
    "        print(\"Matriks P generasi ke-\"+str(g+1)+\": \"+str(np.matrix(p_temp)))\n",
    "        for b in range(0,25,6):\n",
    "            if p_temp[b]<batas_bawah:\n",
    "                p_temp[b]=batas_bawah\n",
    "                \n",
    "        print(\"Matriks Q generasi ke-\"+str(g+1)+\": \"+str(np.matrix(q_temp)))\n",
    "        for c in range(0,25,6): #dibuat supaya q yaw tidak berubah\n",
    "            if q_temp[c]<batas_bawah:\n",
    "                q_temp[c]=batas_bawah\n",
    "            \n",
    "    #change the value of the parameter with the ones just acquired\n",
    "    params_yaml(p_temp,q_temp,temp)\n",
    "    p_sim,q_sim = p_temp,q_temp\n",
    "    #run the launch function\n",
    "    launch()\n",
    "    \n",
    "    # acquiring the fitness value by taking the estimation value from the temporary bag file (ga_temp.bag) and find the fitness from the error defined before\n",
    "    hasil_ukf, utm, t_state, t_utm = ambil_bag()\n",
    "\n",
    "    er_rmse, er_mae = err(hasil_ukf, utm, t_state, t_utm)\n",
    "    fit = 1/er_rmse\n",
    "    \n",
    "    #plot the estimation for every set of parameter values acquired\n",
    "    plot(hasil_ukf,utm)\n",
    "    \n",
    "    #saving the parameter values acquired\n",
    "    catat(p_temp,q_temp,er_rmse,fit,path['p'],path['q'],path['error'],\n",
    "          path['error_bygen'],path['fitness'])\n",
    "    \n",
    "var = load_from_path(params)\n",
    "p_best,q_best = var['p'][0].tolist(),var['q'][0].tolist()\n",
    "params_yaml(p_best,q_sim) #only works with float, not numpy.float heh"
   ]
  },
  {
   "cell_type": "code",
   "execution_count": null,
   "metadata": {},
   "outputs": [],
   "source": [
    "print(\"Matriks P generasi ke-\"+str(g)+\": \")"
   ]
  },
  {
   "cell_type": "code",
   "execution_count": null,
   "metadata": {
    "scrolled": false
   },
   "outputs": [],
   "source": [
    "fit"
   ]
  },
  {
   "cell_type": "code",
   "execution_count": null,
   "metadata": {
    "scrolled": false
   },
   "outputs": [],
   "source": []
  },
  {
   "cell_type": "code",
   "execution_count": null,
   "metadata": {
    "scrolled": false
   },
   "outputs": [],
   "source": []
  },
  {
   "cell_type": "code",
   "execution_count": null,
   "metadata": {
    "scrolled": false
   },
   "outputs": [],
   "source": []
  },
  {
   "cell_type": "code",
   "execution_count": null,
   "metadata": {
    "scrolled": false
   },
   "outputs": [],
   "source": []
  },
  {
   "cell_type": "code",
   "execution_count": null,
   "metadata": {
    "scrolled": false
   },
   "outputs": [],
   "source": []
  },
  {
   "cell_type": "code",
   "execution_count": null,
   "metadata": {
    "scrolled": false
   },
   "outputs": [],
   "source": []
  },
  {
   "cell_type": "code",
   "execution_count": null,
   "metadata": {
    "scrolled": false
   },
   "outputs": [],
   "source": []
  },
  {
   "cell_type": "code",
   "execution_count": null,
   "metadata": {
    "scrolled": false
   },
   "outputs": [],
   "source": []
  },
  {
   "cell_type": "code",
   "execution_count": null,
   "metadata": {
    "scrolled": false
   },
   "outputs": [],
   "source": []
  },
  {
   "cell_type": "code",
   "execution_count": null,
   "metadata": {
    "scrolled": false
   },
   "outputs": [],
   "source": []
  },
  {
   "cell_type": "code",
   "execution_count": null,
   "metadata": {
    "scrolled": false
   },
   "outputs": [],
   "source": []
  },
  {
   "cell_type": "code",
   "execution_count": null,
   "metadata": {
    "scrolled": false
   },
   "outputs": [],
   "source": []
  }
 ],
 "metadata": {
  "kernelspec": {
   "display_name": "Python 3",
   "language": "python",
   "name": "python3"
  },
  "language_info": {
   "codemirror_mode": {
    "name": "ipython",
    "version": 2
   },
   "file_extension": ".py",
   "mimetype": "text/x-python",
   "name": "python",
   "nbconvert_exporter": "python",
   "pygments_lexer": "ipython2",
   "version": "2.7.17"
  }
 },
 "nbformat": 4,
 "nbformat_minor": 2
}
