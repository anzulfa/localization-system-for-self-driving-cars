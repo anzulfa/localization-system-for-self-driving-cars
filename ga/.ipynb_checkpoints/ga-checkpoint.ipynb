{
 "cells": [
  {
   "cell_type": "markdown",
   "metadata": {},
   "source": [
    "#### to dos: \n",
    "- [x] pindah ke path yg bener dan semua files pengikutnya disesuaiin (LAUNCH gimana ya) \n",
    "- [ ] numpy yg penting cuman buat arg sort ga si (cuman di fungsi ambil bag berarti?)\n",
    "- [ ] apus semua path file di folder d di awal launch - check\n",
    "- [ ] coba pengganti ! (%?) buat di py biasa\n",
    "- [ ] early stopping callback\n",
    "- [ ] plot realtime progres eror di to do (berat)\n",
    "- [x] masukin readme\n",
    "- [ ] make the parameters vars customized (berat)\n",
    "- [ ] semua yg panjang2 di main (termasuk 3 operator) jadi fungsi masing2 (class ga)\n",
    "- [x] output tuned.yaml di akhir proses loop (baik setelah akhir generasi atau callback)"
   ]
  },
  {
   "cell_type": "markdown",
   "metadata": {},
   "source": [
    "credits to the **YOLO v4 implementation of generic algorithm for hyperparameters tuning** that serves to assist the contributors in understanding the algorithm implementation -- and the few lines here and there taken directly and sometimes almost identically from their repo sure were much appreciated!\n",
    "\n",
    "**Abel**, **Adam**, and **Gilbert**, who were much help; thank you."
   ]
  },
  {
   "cell_type": "code",
   "execution_count": 3,
   "metadata": {
    "scrolled": false
   },
   "outputs": [],
   "source": [
    "import numpy as np\n",
    "import pandas as pd\n",
    "import rosbag\n",
    "import os\n",
    "import yaml\n",
    "import random\n",
    "import math as m\n",
    "from scipy.spatial.distance import cdist\n",
    "from math import sqrt\n",
    "import matplotlib.pyplot as plt\n",
    "import matplotlib\n",
    "import subprocess\n",
    "\n",
    "from sklearn.metrics import mean_squared_error as mse, mean_absolute_error"
   ]
  },
  {
   "cell_type": "markdown",
   "metadata": {},
   "source": [
    "ganti yaml tiap awal generasi"
   ]
  },
  {
   "cell_type": "code",
   "execution_count": 5,
   "metadata": {},
   "outputs": [],
   "source": [
    "#function for changing the parameter values (YAML file is used for the params to be called from the main UKF program)\n",
    "def params_yaml(p,q,temp=False):\n",
    "    #read\n",
    "    temp_yaml_dir = pwd + '/config/temp.yaml'\n",
    "    with open(temp_yaml_dir) as read_temp_yaml:             \n",
    "        params = yaml.safe_load(read_temp_yaml)\n",
    "    if q is not None:\n",
    "        params['process_noise_covariance_Q'] = q\n",
    "        params['initial_estimate_covariance_P'] = p\n",
    "    \n",
    "    #write and save\n",
    "    if temp: #temp\n",
    "        with open(temp_yaml_dir,'w') as write_temp_yaml:    \n",
    "            yaml.safe_dump(params, write_temp_yaml, indent=2, allow_unicode=False) #dah berhasil ni     \n",
    "    else: #best\n",
    "        best_yaml_dir = pwd + '/config/tuned.yaml'\n",
    "        with open(best_yaml_dir,'w') as write_best_yaml:      \n",
    "            yaml.safe_dump(params, write_best_yaml, indent=2, allow_unicode=False)\n",
    "        print(\"Optimization is all done and the best params are now saved to {}\".format(best_yaml_dir))"
   ]
  },
  {
   "cell_type": "markdown",
   "metadata": {},
   "source": [
    "jalanin roslaunch berisi rosbag play, ukf dengan yaml baru untuk setiap generasi, dan rosbag record"
   ]
  },
  {
   "cell_type": "code",
   "execution_count": null,
   "metadata": {
    "scrolled": false
   },
   "outputs": [],
   "source": [
    "# function for launching the 3 nodes: rosbag play back, the ukf algorithm, the recording of the rosbag to a temporary rosbag file that saves the estimation from the UKF\n",
    "# the ntoebook (with !) and python (with %?) capability to run terminal command is VERY crucial in making this tuning possible in the ROS environment. It was the one thing that was going to be the make or break.\n",
    "def launch(pwd):\n",
    "    launch_path = \"{}/launch/launch_for_ga.launch\".format(pwd)\n",
    "    !roslaunch {launch_path}\n",
    "    \n",
    "    # is not str WKWKWKWK gimana ya bair keren dipakein pwd nya.\n",
    "    # eh kan kalo di cmd line mala lebih gampang buat ngerun file dari folder laen?"
   ]
  },
  {
   "cell_type": "markdown",
   "metadata": {},
   "source": [
    "jalanin rosbag import cari rmse"
   ]
  },
  {
   "cell_type": "code",
   "execution_count": 7,
   "metadata": {
    "scrolled": false
   },
   "outputs": [],
   "source": [
    "def err(est, gt, t_est, t_gt):\n",
    "    j = 1\n",
    "    sample_est = []\n",
    "    sample_gt = []\n",
    "    for i in range(1, len(t_gt)):\n",
    "        while (t_gt[i] > t_est[j]):\n",
    "            j += 1\n",
    "            \n",
    "        sample_est.append(est[j])\n",
    "        sample_gt.append(gt[i])\n",
    "    rmse=sqrt(mse(sample_gt, sample_est))\n",
    "    mae=mean_absolute_error(sample_gt, sample_est)\n",
    "    print(\"rmse: \"+str(rmse)+\"\\nmae: \"+str(mae))\n",
    "    return rmse,mae\n",
    "\n",
    "#function for loading the estimation values recorded in the temporary bag file\n",
    "def ambil_bag():\n",
    "    bag = rosbag.Bag(pwd + '/bag/ga_temp.bag') #bagnya perlu udah ada ga ya? kayanya ngga, soalnya dibuatin dari launch filenya\n",
    "#     print(bag)\n",
    "    states_xy=[]\n",
    "    states_xy_baru=[]\n",
    "    t = []\n",
    "\n",
    "    for topic, msg, time in bag.read_messages(topics=['/ukf_states']):\n",
    "        states_xy.append([msg.x,msg.y])\n",
    "        t.append(msg.stamp.to_sec())\n",
    "    \n",
    "    states_xy = np.array(states_xy)\n",
    "    t = np.array(t)\n",
    "    \n",
    "    states_xy = states_xy[np.all(states_xy != 0,axis = 1)] #buang yg 0\n",
    "    states_xy = states_xy[np.all(~np.isnan(states_xy),axis = 1)] #buang yg nan\n",
    "    t = t[t != 0]\n",
    "\n",
    "    utm=[]\n",
    "    utm_baru=[]\n",
    "    t_utm = []\n",
    "\n",
    "    for topic, msg, time in bag.read_messages(topics=['/utm']):\n",
    "        utm.append([msg.pose.pose.position.x,msg.pose.pose.position.y])\n",
    "        t_utm.append(time.to_sec())\n",
    "\n",
    "    utm = np.array(utm)\n",
    "    t_utm = np.array(t_utm)\n",
    "    min = utm[0]\n",
    "\n",
    "    for i in range(len(states_xy)):\n",
    "        states_xy_baru.append([states_xy[i,0]-min[0],states_xy[i,1]-min[1]])\n",
    "\n",
    "    states_xy_baru=np.array(states_xy_baru)\n",
    "    \n",
    "    for i in range(len(utm)):\n",
    "        utm_baru.append([utm[i,0]-min[0],utm[i,1]-min[1]])\n",
    "\n",
    "    utm_baru=np.array(utm_baru)\n",
    "    return states_xy_baru, utm_baru, t, t_utm"
   ]
  },
  {
   "cell_type": "code",
   "execution_count": 9,
   "metadata": {
    "scrolled": false
   },
   "outputs": [],
   "source": [
    "#function for plotting the estimation and the (unextended) GNSS points \n",
    "def plot(estimasi,gnss):\n",
    "    plt.figure(figsize=(10,10))\n",
    "    matplotlib.style.use('default')\n",
    "\n",
    "    plt.scatter(estimasi[:,0],estimasi[:,1],s=2.,color='k') #odometry/filtered_map\n",
    "    plt.scatter(gnss[:,0],gnss[:,1],s=5.,marker=\"x\",c='C3',alpha=1)\n",
    "    plt.show()"
   ]
  },
  {
   "cell_type": "code",
   "execution_count": 10,
   "metadata": {
    "scrolled": false
   },
   "outputs": [],
   "source": [
    "# function for saving the acquired parameter values to an external .txt file\n",
    "def catat(ptemp,qtemp,errortemp,fitnesstemp,p_path,q_path,error_path,error_bygen_path,fitness_path):\n",
    "    p = '%14.4g' * len(ptemp) % tuple(ptemp)\n",
    "    q = '%14.4g' * len(qtemp) % tuple(qtemp)\n",
    "    print('catat p q', p, q)\n",
    "    error = str(errortemp)\n",
    "    fitness = str(fitnesstemp)\n",
    "    \n",
    "    # adding new information to the temp files\n",
    "    with open(p_path, 'a') as h:  \n",
    "        h.write(p + '\\n')\n",
    "    with open(q_path, 'a') as h: \n",
    "        h.write(q + '\\n')\n",
    "    with open(error_path, 'a') as h:  \n",
    "        h.write(error + '\\n')\n",
    "    with open(error_bygen_path, 'a') as h:  \n",
    "        h.write(error + '\\n')\n",
    "    with open(fitness_path, 'a') as h:  \n",
    "        h.write(fitness + '\\n')\n",
    "        \n",
    "    # loading the recently modified temp files nto numpy (for easier sort ith argsort)\n",
    "    x_q=np.loadtxt(q_path, ndmin=2)  \n",
    "    x_p=np.loadtxt(p_path, ndmin=2) \n",
    "    x_error=np.loadtxt(error_path, ndmin=2)\n",
    "#     x_error_bygen=np.loadtxt(error_bygen_path, ndmin=2)\n",
    "    x_fitness=np.loadtxt(fitness_path, ndmin=2)\n",
    "    \n",
    "    x_fitness_f=x_fitness.flatten()\n",
    "    \n",
    "    # saving the temps but sorted by its corresponding fitness value\n",
    "\n",
    "    np.savetxt(p_path, x_p[np.argsort(-x_fitness_f)], '%10.5g')\n",
    "    np.savetxt(q_path, x_q[np.argsort(-x_fitness_f)], '%10.5g')\n",
    "    np.savetxt(error_path, x_error[np.argsort(-x_fitness_f)], '%10.5g')\n",
    "#     np.savetxt(error_bygen_path, x_error_bygen, '%10.5g') #savenya berdasarkan error, loadnya berdasarkan fitness\n",
    "    np.savetxt(fitness_path, x_fitness[np.argsort(-x_fitness_f)], '%10.5g')  #[np.argsortnya ini nambah dimensi]"
   ]
  },
  {
   "cell_type": "code",
   "execution_count": 11,
   "metadata": {},
   "outputs": [],
   "source": [
    "# delete all files in the path directory before launching\n",
    "def clear_path(folder):\n",
    "    os_folder = os.listdir(folder)\n",
    "    if os_folder:\n",
    "        for f in os_folder:\n",
    "            os.remove(os.path.join(folder, f))\n",
    "        print(\"Parameters' path is cleared!\")\n",
    "    else:\n",
    "        print(\"Parameters' path is already clear!\")"
   ]
  },
  {
   "cell_type": "code",
   "execution_count": 12,
   "metadata": {},
   "outputs": [],
   "source": [
    "def init_pq(p_diag, q_diag):\n",
    "    p, q = [[0,]*25]*2\n",
    "    for i,j in enumerate(range(0,25,6)):\n",
    "        p[j], q[j] = p_diag[i], q_diag[i]\n",
    "    return p, q"
   ]
  },
  {
   "cell_type": "code",
   "execution_count": 13,
   "metadata": {},
   "outputs": [],
   "source": [
    "def load_from_path(to_load):\n",
    "    vars = {}\n",
    "    for load in to_load:\n",
    "        vars[load] = np.loadtxt(path[load], ndmin=2)\n",
    "    return vars"
   ]
  },
  {
   "cell_type": "code",
   "execution_count": 15,
   "metadata": {},
   "outputs": [],
   "source": []
  },
  {
   "cell_type": "code",
   "execution_count": 16,
   "metadata": {
    "scrolled": false
   },
   "outputs": [
    {
     "name": "stdout",
     "output_type": "stream",
     "text": [
      "Parameters' path is already clear!\n",
      "----------------------------------------------------------------------------------------------------\n",
      "Generasi ke-1 dari 2\n",
      "... logging to /home/win/.ros/log/9305f9ae-a4a5-11eb-a467-f0038c0a96db/roslaunch-win-ubuntu-13353.log\n",
      "Checking log directory for disk usage. This may take a while.\n",
      "Press Ctrl-C to interrupt\n",
      "Done checking log file disk usage. Usage is <1GB.\n",
      "\u001b]2;/home/win/awin_ws/src/localization_system/launch/launch_for_ga.launch\u0007\n",
      "\u001b[1mstarted roslaunch server http://win-ubuntu:43423/\u001b[0m\n",
      "\n",
      "SUMMARY\n",
      "========\n",
      "\n",
      "CLEAR PARAMETERS\n",
      " * /rosbag_play/\n",
      " * /rosbag_record/\n",
      "\n",
      "PARAMETERS\n",
      " * /R_gnss: [0.0001, 0, 0, 0....\n",
      " * /R_imu: 0.0025\n",
      " * /R_tach: 0.25\n",
      " * /initial_estimate_covariance_P: [10, 0, 0, 0, 0, ...\n",
      " * /kappa: -2\n",
      " * /process_noise_covariance_Q: [10, 0, 0, 0, 0, ...\n",
      " * /rosdistro: melodic\n",
      " * /rosversion: 1.14.4\n",
      "\n",
      "NODES\n",
      "  /\n",
      "    rosbag_play (rosbag/play)\n",
      "    rosbag_record (rosbag/record)\n",
      "    ukf_localization_2d (localization_system/ukf_localization_2d)\n",
      "    utm (gps_common/utm_odometry_node)\n",
      "\n",
      "auto-starting new master\n",
      "\u001b[1mprocess[master]: started with pid [13363]\u001b[0m\n",
      "\u001b[1mROS_MASTER_URI=http://localhost:11311\u001b[0m\n",
      "\u001b]2;/home/win/awin_ws/src/localization_system/launch/launch_for_ga.launch http://localhost:11311\u0007\n",
      "\u001b[1msetting /run_id to 9305f9ae-a4a5-11eb-a467-f0038c0a96db\u001b[0m\n",
      "\u001b[1mprocess[rosout-1]: started with pid [13374]\u001b[0m\n",
      "started core service [/rosout]\n",
      "\u001b[1mprocess[ukf_localization_2d-2]: started with pid [13382]\u001b[0m\n",
      "\u001b[1mprocess[utm-3]: started with pid [13383]\u001b[0m\n",
      "\u001b[1mprocess[rosbag_play-4]: started with pid [13390]\u001b[0m\n",
      "\u001b[1mprocess[rosbag_record-5]: started with pid [13395]\u001b[0m\n",
      "\u001b[0m[ INFO] [1619231661.453822290]: Opening /home/win/awin_ws/src/localization_system/bag/9okt_8_2.bag\u001b[0m\n",
      "\n",
      "Waiting 0.2 seconds after advertising topics... done.\n",
      "\n",
      "Hit space to toggle paused, or 's' to step.\n",
      " [RUNNING]  Bag Time: 1602219513.917199   Duration: 27.115693 / 27.155447               \n",
      "Done.\n",
      "\u001b[31m================================================================================REQUIRED process [rosbag_play-4] has died!\n",
      "process has finished cleanly\n",
      "log file: /home/win/.ros/log/9305f9ae-a4a5-11eb-a467-f0038c0a96db/rosbag_play-4*.log\n",
      "Initiating shutdown!\n",
      "================================================================================\u001b[0m\n",
      "[rosbag_record-5] killing on exit\n",
      "[rosbag_play-4] killing on exit\n",
      "[utm-3] killing on exit\n",
      "[ukf_localization_2d-2] killing on exit\n",
      "[rosout-1] killing on exit\n",
      "[master] killing on exit\n",
      "shutting down processing monitor...\n",
      "... shutting down processing monitor complete\n",
      "\u001b[1mdone\u001b[0m\n",
      "rmse: 0.0789287919904\n",
      "mae: 0.06366404739587303\n"
     ]
    },
    {
     "data": {
      "image/png": "[encoded data removed]",
      "text/plain": [
       "<Figure size 720x720 with 1 Axes>"
      ]
     },
     "metadata": {
      "needs_background": "light"
     },
     "output_type": "display_data"
    },
    {
     "name": "stdout",
     "output_type": "stream",
     "text": [
      "('catat p q', '            10             0             0             0             0             0            10             0             0             0             0             0            10             0             0             0             0             0            10             0             0             0             0             0             1', '            10             0             0             0             0             0            10             0             0             0             0             0            10             0             0             0             0             0            10             0             0             0             0             0             1')\n",
      "----------------------------------------------------------------------------------------------------\n",
      "Generasi ke-2 dari 2\n",
      "Matriks P generasi ke-3: [[ 9.88294335  0.          0.          0.          0.          0.\n",
      "   7.74678302  0.          0.          0.          0.          0.\n",
      "  10.02222793  0.          0.          0.          0.          0.\n",
      "   9.1197745   0.          0.          0.          0.          0.\n",
      "   1.92311834]]\n",
      "Matriks Q generasi ke-3: [[10.98052777  0.          0.          0.          0.          0.\n",
      "   8.76524111  0.          0.          0.          0.          0.\n",
      "  10.72861984  0.          0.          0.          0.          0.\n",
      "   8.96048205  0.          0.          0.          0.          0.\n",
      "   1.87195203]]\n",
      "... logging to /home/win/.ros/log/a4fea02a-a4a5-11eb-a467-f0038c0a96db/roslaunch-win-ubuntu-13538.log\n",
      "Checking log directory for disk usage. This may take a while.\n",
      "Press Ctrl-C to interrupt\n",
      "Done checking log file disk usage. Usage is <1GB.\n",
      "\u001b]2;/home/win/awin_ws/src/localization_system/launch/launch_for_ga.launch\u0007\n",
      "\u001b[1mstarted roslaunch server http://win-ubuntu:35817/\u001b[0m\n",
      "\n",
      "SUMMARY\n",
      "========\n",
      "\n",
      "CLEAR PARAMETERS\n",
      " * /rosbag_play/\n",
      " * /rosbag_record/\n",
      "\n",
      "PARAMETERS\n",
      " * /R_gnss: [0.0001, 0, 0, 0....\n",
      " * /R_imu: 0.0025\n",
      " * /R_tach: 0.25\n",
      " * /initial_estimate_covariance_P: [9.88294335165423...\n",
      " * /kappa: -2\n",
      " * /process_noise_covariance_Q: [10.9805277699581...\n",
      " * /rosdistro: melodic\n",
      " * /rosversion: 1.14.4\n",
      "\n",
      "NODES\n",
      "  /\n",
      "    rosbag_play (rosbag/play)\n",
      "    rosbag_record (rosbag/record)\n",
      "    ukf_localization_2d (localization_system/ukf_localization_2d)\n",
      "    utm (gps_common/utm_odometry_node)\n",
      "\n",
      "auto-starting new master\n",
      "\u001b[1mprocess[master]: started with pid [13548]\u001b[0m\n",
      "\u001b[1mROS_MASTER_URI=http://localhost:11311\u001b[0m\n",
      "\u001b]2;/home/win/awin_ws/src/localization_system/launch/launch_for_ga.launch http://localhost:11311\u0007\n",
      "\u001b[1msetting /run_id to a4fea02a-a4a5-11eb-a467-f0038c0a96db\u001b[0m\n",
      "\u001b[1mprocess[rosout-1]: started with pid [13559]\u001b[0m\n",
      "started core service [/rosout]\n",
      "\u001b[1mprocess[ukf_localization_2d-2]: started with pid [13567]\u001b[0m\n",
      "\u001b[1mprocess[utm-3]: started with pid [13568]\u001b[0m\n",
      "\u001b[1mprocess[rosbag_play-4]: started with pid [13574]\u001b[0m\n",
      "\u001b[1mprocess[rosbag_record-5]: started with pid [13579]\u001b[0m\n",
      "\u001b[0m[ INFO] [1619231691.772579370]: Opening /home/win/awin_ws/src/localization_system/bag/9okt_8_2.bag\u001b[0m\n",
      "\n",
      "Waiting 0.2 seconds after advertising topics... done.\n",
      "\n",
      "Hit space to toggle paused, or 's' to step.\n",
      " [RUNNING]  Bag Time: 1602219513.917194   Duration: 27.115688 / 27.155447               05.20 \n",
      "Done.\n",
      "\u001b[31m================================================================================REQUIRED process [rosbag_play-4] has died!\n",
      "process has finished cleanly\n",
      "log file: /home/win/.ros/log/a4fea02a-a4a5-11eb-a467-f0038c0a96db/rosbag_play-4*.log\n",
      "Initiating shutdown!\n",
      "================================================================================\u001b[0m\n",
      "[rosbag_record-5] killing on exit\n",
      "[utm-3] killing on exit\n",
      "[rosbag_play-4] killing on exit\n",
      "[ukf_localization_2d-2] killing on exit\n",
      "[rosout-1] killing on exit\n",
      "[master] killing on exit\n",
      "shutting down processing monitor...\n",
      "... shutting down processing monitor complete\n",
      "\u001b[1mdone\u001b[0m\n",
      "rmse: 0.0794605309678\n",
      "mae: 0.06428322098605956\n"
     ]
    },
    {
     "data": {
      "image/png": "[encoded data removed]",
      "text/plain": [
       "<Figure size 1000x1000 with 1 Axes>"
      ]
     },
     "metadata": {},
     "output_type": "display_data"
    },
    {
     "name": "stdout",
     "output_type": "stream",
     "text": [
      "('catat p q', '         9.883             0             0             0             0             0         7.747             0             0             0             0             0         10.02             0             0             0             0             0          9.12             0             0             0             0             0         1.923', '         10.98             0             0             0             0             0         8.765             0             0             0             0             0         10.73             0             0             0             0             0          8.96             0             0             0             0             0         1.872')\n",
      "Optimization is all done and the best params are now saved to /home/win/awin_ws/src/localization_system/config/tuned.yaml\n"
     ]
    }
   ],
   "source": [
    "\n",
    "# initializing the parameter values\n",
    "p_diagonals = [10, 10, 10, 10, 1]\n",
    "q_diagonals = [10, 10, 10, 10, 1]\n",
    "p_temp, q_temp = init_pq(p_diagonals, q_diagonals)\n",
    "\n",
    "wd = os.getcwd() #the working directory (wd) and \n",
    "pwd = os.path.dirname(wd) #the parent of the wd (pwd)\n",
    "\n",
    "# define the max number of generations\n",
    "temp_folder = pwd + \"/logs/\"\n",
    "clear_path(temp_folder)\n",
    "\n",
    "params = ['p', 'q']\n",
    "errors_saved = ['error', 'error_bygen']\n",
    "temp_names = params + ['fitness'] + errors_saved\n",
    "to_load = params + ['fitness']\n",
    "\n",
    "# defining the filename for the values temps to be saved with\n",
    "path = {}\n",
    "for temp in temp_names:\n",
    "    path[temp] = temp_folder + temp + '_path.txt'\n",
    "\n",
    "generasi = 2\n",
    "for g in range(1, generasi+1):\n",
    "    print(\"----------------------------------------------------------------------------------------------------\")\n",
    "    print(\"Generasi ke-\"+ str(g) + \" dari \" + str(generasi))\n",
    "\n",
    "    if os.path.exists(path['p']): # load the saved parameters after the 1st generation\n",
    "        # backbone of GA under here\n",
    "        var = load_from_path(to_load)\n",
    "        p,q,fitness = var['p'],var['q'],var['fitness']\n",
    "        #selection\n",
    "        n = min(25, len(p)) #defining the max number of the individuals in the population\n",
    "        \n",
    "        batas_bawah=1e-03\n",
    "#         daftar_parameter= [p[0],q[0]] #saving the (best?) parameters in p and q as an array\n",
    "        \n",
    "        #crossover (recombination of values)\n",
    "        if g > 2: #picking the parents for the crossover\n",
    "            indeks_ortu1,indeks_ortu2=random.sample(range(0, n), 2)\n",
    "            p_ortu=p[[indeks_ortu1,indeks_ortu2],:]\n",
    "            q_ortu=q[[indeks_ortu1,indeks_ortu2],:]\n",
    "            fitness_ortu=fitness[[indeks_ortu1,indeks_ortu2],:]\n",
    "            \n",
    "            w1=fitness_ortu[0]/(fitness_ortu[0]+fitness_ortu[1])\n",
    "            p, q = np.ones(25), np.ones(25)\n",
    "\n",
    "            for j in range(25):\n",
    "                pilih_ortu_p,pilih_ortu_q=np.random.random(),np.random.random()\n",
    "                p[j]=(pilih_ortu_p<=w1)*p_ortu[0,j]+(pilih_ortu_p>w1)*p_ortu[1,j]\n",
    "                q[j]=(pilih_ortu_q<=w1)*q_ortu[0,j]+(pilih_ortu_q>w1)*q_ortu[1,j]\n",
    "\n",
    "        #mutation\n",
    "        mp, s=0.8, 6 #mutation probability and the multiplying factor defined\n",
    "        if g < 25: #the initial population number defined here\n",
    "            mp,s=1,10 #for initial population, mutation is used to randomly pick the values around the inital values defines before\n",
    "        penjumlah=[]\n",
    "        \n",
    "        apakah_mutasi=np.random.random()\n",
    "        # condition of mutation existing\n",
    "        if apakah_mutasi<mp: \n",
    "            for a in range(10):\n",
    "                penjumlah.append((np.random.normal(0,1))) \n",
    "        # condition of mutation not existing\n",
    "        else:\n",
    "            penjumlah=np.zeros(10) #no addition for mutation\n",
    "        \n",
    "        m_p, m_q=np.zeros(25), np.zeros(25)\n",
    "\n",
    "        i=0\n",
    "        for b in range(0,25,6):\n",
    "            m_p[b]=penjumlah[i]\n",
    "            i+=1\n",
    "        for c in range(0,25,6):\n",
    "            m_q[c]=penjumlah[i]\n",
    "            i+=1\n",
    "            \n",
    "        p_temp = (p+m_p).flatten().tolist()\n",
    "        q_temp = (q+m_q).flatten().tolist()\n",
    "        \n",
    "        print(\"Matriks P generasi ke-\"+str(g+1)+\": \"+str(np.matrix(p_temp)))\n",
    "        for b in range(0,25,6):\n",
    "            if p_temp[b]<batas_bawah:\n",
    "                p_temp[b]=batas_bawah\n",
    "                \n",
    "        print(\"Matriks Q generasi ke-\"+str(g+1)+\": \"+str(np.matrix(q_temp)))\n",
    "        for c in range(0,25,6): #dibuat supaya q yaw tidak berubah\n",
    "            if q_temp[c]<batas_bawah:\n",
    "                q_temp[c]=batas_bawah\n",
    "            \n",
    "    #change the value of the parameter with the ones just acquired\n",
    "    params_yaml(p_temp,q_temp,temp)\n",
    "    p_sim,q_sim = p_temp,q_temp\n",
    "    #run the launch function\n",
    "    launch(pwd)\n",
    "    \n",
    "    # acquiring the fitness value by taking the estimation value from the temporary bag file (ga_temp.bag) and find the fitness from the error defined before\n",
    "    hasil_ukf, utm, t_state, t_utm = ambil_bag()\n",
    "\n",
    "    er_rmse, er_mae = err(hasil_ukf, utm, t_state, t_utm)\n",
    "    fit = 1/er_rmse\n",
    "    \n",
    "    #plot the estimation for every set of parameter values acquired\n",
    "    plot(hasil_ukf,utm)\n",
    "    \n",
    "    #saving the parameter values acquired\n",
    "    catat(p_temp,q_temp,er_rmse,fit,path['p'],path['q'],path['error'],\n",
    "          path['error_bygen'],path['fitness'])\n",
    "    \n",
    "var = load_from_path(params)\n",
    "p_best,q_best = var['p'][0].tolist(),var['q'][0].tolist()\n",
    "params_yaml(p_best,q_sim) #only works with float, not numpy.float heh"
   ]
  },
  {
   "cell_type": "code",
   "execution_count": 17,
   "metadata": {
    "scrolled": false
   },
   "outputs": [
    {
     "data": {
      "text/plain": [
       "12.584864307095415"
      ]
     },
     "execution_count": 17,
     "metadata": {},
     "output_type": "execute_result"
    }
   ],
   "source": [
    "fit"
   ]
  },
  {
   "cell_type": "code",
   "execution_count": null,
   "metadata": {
    "scrolled": false
   },
   "outputs": [],
   "source": []
  },
  {
   "cell_type": "code",
   "execution_count": null,
   "metadata": {
    "scrolled": false
   },
   "outputs": [],
   "source": []
  },
  {
   "cell_type": "code",
   "execution_count": null,
   "metadata": {
    "scrolled": false
   },
   "outputs": [],
   "source": []
  },
  {
   "cell_type": "code",
   "execution_count": null,
   "metadata": {
    "scrolled": false
   },
   "outputs": [],
   "source": []
  },
  {
   "cell_type": "code",
   "execution_count": null,
   "metadata": {
    "scrolled": false
   },
   "outputs": [],
   "source": []
  },
  {
   "cell_type": "code",
   "execution_count": null,
   "metadata": {
    "scrolled": false
   },
   "outputs": [],
   "source": []
  },
  {
   "cell_type": "code",
   "execution_count": null,
   "metadata": {
    "scrolled": false
   },
   "outputs": [],
   "source": []
  },
  {
   "cell_type": "code",
   "execution_count": null,
   "metadata": {
    "scrolled": false
   },
   "outputs": [],
   "source": []
  },
  {
   "cell_type": "code",
   "execution_count": null,
   "metadata": {
    "scrolled": false
   },
   "outputs": [],
   "source": []
  },
  {
   "cell_type": "code",
   "execution_count": null,
   "metadata": {
    "scrolled": false
   },
   "outputs": [],
   "source": []
  },
  {
   "cell_type": "code",
   "execution_count": null,
   "metadata": {
    "scrolled": false
   },
   "outputs": [],
   "source": []
  },
  {
   "cell_type": "code",
   "execution_count": null,
   "metadata": {
    "scrolled": false
   },
   "outputs": [],
   "source": []
  }
 ],
 "metadata": {
  "kernelspec": {
   "display_name": "Python 3",
   "language": "python",
   "name": "python3"
  },
  "language_info": {
   "codemirror_mode": {
    "name": "ipython",
    "version": 2
   },
   "file_extension": ".py",
   "mimetype": "text/x-python",
   "name": "python",
   "nbconvert_exporter": "python",
   "pygments_lexer": "ipython2",
   "version": "2.7.17"
  }
 },
 "nbformat": 4,
 "nbformat_minor": 2
}
