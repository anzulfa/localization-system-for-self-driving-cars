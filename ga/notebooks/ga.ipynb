{
 "cells": [
  {
   "cell_type": "code",
   "execution_count": 1,
   "metadata": {},
   "outputs": [],
   "source": [
    "# to do: \n",
    "# pindah ke path yg bener dan semua files pengikutnya disesuaiin\n",
    "# numpy yg penting cuman buat arg sort ga si (cuman di fungsi ambil bag berarti?)\n",
    "\n",
    "#     apus semua path file di folder d di awal launch - check\n",
    "#     coba pengganti ! (%?) buat di py biasa\n",
    "#     early stopping callback\n",
    "#     tambain plot realtime progres eror di to do\n",
    "    # to do ga masukin readme\n",
    "    # make the parameters vars customized\n",
    "    # SEMUA yg panjang2 di main dijadiin function\n",
    "\n",
    "# file2 tambahan yg perlu diupload juga:\n",
    "#     bag sensor (?)\n",
    "#     bagtemp\n",
    "#     launch file (udah ada harusnya cari lokasinya)\n",
    "#     folder path\n",
    "#     YAMLLL"
   ]
  },
  {
   "cell_type": "markdown",
   "metadata": {},
   "source": [
    "credits to the **YOLO v4 implementation of generic algorithm for hyperparameters tuning** that serves to assist the contributors in understanding the algorithm implementation (and a few lines here and there taken directly and sometimes almost identically from their repo sure were much appreciated!)\n",
    "\n",
    "**Abel**, **Adam**, and **Gilbert**, who were much help when we at (so many) times faced difficulties in understanding whatever it is of the algorithm we haven't gotten quite the hang yet; thank you.\""
   ]
  },
  {
   "cell_type": "code",
   "execution_count": 2,
   "metadata": {
    "scrolled": false
   },
   "outputs": [],
   "source": [
    "import numpy as np\n",
    "import pandas as pd\n",
    "import rosbag\n",
    "import os\n",
    "import yaml\n",
    "import random\n",
    "import math as m\n",
    "from scipy.spatial.distance import cdist\n",
    "from math import sqrt\n",
    "import matplotlib.pyplot as plt\n",
    "import matplotlib\n",
    "from sklearn.metrics import mean_squared_error as mse, mean_absolute_error"
   ]
  },
  {
   "cell_type": "markdown",
   "metadata": {},
   "source": [
    "ganti yaml tiap awal generasi"
   ]
  },
  {
   "cell_type": "code",
   "execution_count": 3,
   "metadata": {
    "scrolled": false
   },
   "outputs": [],
   "source": [
    "#function for changing the parameter values (YAML file is used for the params to be called from the main UKF program)\n",
    "def change_params_yaml(p,q):\n",
    "    with open('/home/win/awin_ws/src/robot_localization/awin/params/ukf_ule_ga_params.yaml') as tes:             \n",
    "        doc=yaml.safe_load(tes)\n",
    "    if q is not None:\n",
    "        doc['process_noise_covariance_Q'] = q\n",
    "        doc['initial_estimate_covariance_P'] = p\n",
    "   \n",
    "    with open('/home/win/awin_ws/src/robot_localization/awin/params/ukf_ule_ga_params.yaml','w') as tes:      #save as\n",
    "        yaml.safe_dump(doc, tes, indent=2, allow_unicode=False) #dah berhasil ni     "
   ]
  },
  {
   "cell_type": "markdown",
   "metadata": {},
   "source": [
    "jalanin roslaunch berisi rosbag play, ukf dengan yaml baru untuk setiap generasi, dan rosbag record"
   ]
  },
  {
   "cell_type": "code",
   "execution_count": 4,
   "metadata": {
    "scrolled": false
   },
   "outputs": [],
   "source": [
    "# function for launching the 3 nodes: rosbag play back, the ukf algorithm, the recording of the rosbag to a temporary rosbag file that saves the estimation from the UKF\n",
    "# the ntoebook (with !) and python (with %?) capability to run terminal command is VERY crucial in making this tuning possible in the ROS environment. It was the one thing that was going to be the make or break.\n",
    "def launch():\n",
    "    !roslaunch /home/win/awin_ws/src/robot_localization/awin/ukf_ule_ga.launch"
   ]
  },
  {
   "cell_type": "markdown",
   "metadata": {},
   "source": [
    "jalanin rosbag import cari rmse"
   ]
  },
  {
   "cell_type": "code",
   "execution_count": 5,
   "metadata": {
    "scrolled": false
   },
   "outputs": [],
   "source": [
    "def err(est, gt, t_est, t_gt):\n",
    "    j = 1\n",
    "    sample_est = []\n",
    "    sample_gt = []\n",
    "    for i in range(1, len(t_gt)):\n",
    "        while (t_gt[i] > t_est[j]):\n",
    "            j += 1\n",
    "            \n",
    "        sample_est.append(est[j])\n",
    "        sample_gt.append(gt[i])\n",
    "    rmse=sqrt(mse(sample_gt, sample_est))\n",
    "    mae=mean_absolute_error(sample_gt, sample_est)\n",
    "    print(\"rmse: \"+str(rmse)+\"\\nmae: \"+str(mae))\n",
    "    return rmse,mae\n",
    "\n",
    "#function for loading the estimation values recorded in the temporary bag file\n",
    "def ambil_bag():\n",
    "    bag = rosbag.Bag('ga_temp.bag')\n",
    "#     print(bag)\n",
    "    states_xy=[]\n",
    "    states_xy_baru=[]\n",
    "    t = []\n",
    "\n",
    "    for topic, msg, time in bag.read_messages(topics=['/ukf_states']):\n",
    "        states_xy.append([msg.x,msg.y])\n",
    "        t.append(msg.stamp.to_sec())\n",
    "    \n",
    "    states_xy = np.array(states_xy)\n",
    "    t = np.array(t)\n",
    "    \n",
    "    states_xy = states_xy[np.all(states_xy != 0,axis = 1)] #buang yg 0\n",
    "    states_xy = states_xy[np.all(~np.isnan(states_xy),axis = 1)] #buang yg nan\n",
    "    t = t[t != 0]\n",
    "\n",
    "    utm=[]\n",
    "    utm_baru=[]\n",
    "    t_utm = []\n",
    "\n",
    "    for topic, msg, time in bag.read_messages(topics=['/utm']):\n",
    "        utm.append([msg.pose.pose.position.x,msg.pose.pose.position.y])\n",
    "        t_utm.append(time.to_sec())\n",
    "\n",
    "    utm = np.array(utm)\n",
    "    t_utm = np.array(t_utm)\n",
    "    min = utm[0]\n",
    "\n",
    "    for i in range(len(states_xy)):\n",
    "        states_xy_baru.append([states_xy[i,0]-min[0],states_xy[i,1]-min[1]])\n",
    "\n",
    "    states_xy_baru=np.array(states_xy_baru)\n",
    "    \n",
    "    for i in range(len(utm)):\n",
    "        utm_baru.append([utm[i,0]-min[0],utm[i,1]-min[1]])\n",
    "\n",
    "    utm_baru=np.array(utm_baru)\n",
    "    return states_xy_baru, utm_baru, t, t_utm"
   ]
  },
  {
   "cell_type": "code",
   "execution_count": 6,
   "metadata": {
    "scrolled": false
   },
   "outputs": [],
   "source": [
    "#function for fitness evaluation\n",
    "def fitness(rmse_groundtruth):\n",
    "    return 1/rmse_groundtruth"
   ]
  },
  {
   "cell_type": "code",
   "execution_count": 7,
   "metadata": {
    "scrolled": false
   },
   "outputs": [],
   "source": [
    "#function for plotting the estimation and the (unextended) GNSS points \n",
    "def plot(estimasi,gnss):\n",
    "    plt.figure(figsize=(10,10))\n",
    "    matplotlib.style.use('default')\n",
    "\n",
    "    plt.scatter(estimasi[:,0],estimasi[:,1],s=2.,color='k') #odometry/filtered_map\n",
    "    plt.scatter(gnss[:,0],gnss[:,1],s=5.,marker=\"x\",c='C3',alpha=1)\n",
    "    plt.show()"
   ]
  },
  {
   "cell_type": "code",
   "execution_count": 8,
   "metadata": {
    "scrolled": false
   },
   "outputs": [],
   "source": [
    "# function for saving the acquired parameter values to an external .txt file\n",
    "def catat(ptemp,qtemp,errortemp,fitnesstemp,p_path,q_path,error_path,error_bygen_path,fitness_path):\n",
    "    p = '%14.4g' * len(ptemp) % tuple(ptemp)\n",
    "    q = '%14.4g' * len(qtemp) % tuple(qtemp)\n",
    "    error = str(errortemp)\n",
    "    fitness = str(fitnesstemp)\n",
    "    \n",
    "    # adding new information to the temp files\n",
    "    with open(p_path, 'a') as h:  \n",
    "        h.write(p + '\\n')\n",
    "    with open(q_path, 'a') as h: \n",
    "        h.write(q + '\\n')\n",
    "    with open(error_path, 'a') as h:  \n",
    "        h.write(error + '\\n')\n",
    "    with open(error_bygen_path, 'a') as h:  \n",
    "        h.write(error + '\\n')\n",
    "    with open(fitness_path, 'a') as h:  \n",
    "        h.write(fitness + '\\n')\n",
    "        \n",
    "    # loading the recently modified temp files nto numpy (for easier sort ith argsort)\n",
    "    x_q=np.loadtxt(q_path, ndmin=2)  \n",
    "    x_p=np.loadtxt(p_path, ndmin=2) \n",
    "    x_error=np.loadtxt(error_path, ndmin=2)\n",
    "#     x_error_bygen=np.loadtxt(error_bygen_path, ndmin=2)\n",
    "    x_fitness=np.loadtxt(fitness_path, ndmin=2)\n",
    "    \n",
    "    x_fitness_f=x_fitness.flatten()\n",
    "    \n",
    "    # saving the temps but sorted by its corresponding fitness value\n",
    "\n",
    "    np.savetxt(p_path, x_p[np.argsort(-x_fitness_f)], '%10.5g')\n",
    "    np.savetxt(q_path, x_q[np.argsort(-x_fitness_f)], '%10.5g')\n",
    "    np.savetxt(error_path, x_error[np.argsort(-x_fitness_f)], '%10.5g')\n",
    "#     np.savetxt(error_bygen_path, x_error_bygen, '%10.5g') #savenya berdasarkan error, loadnya berdasarkan fitness\n",
    "    np.savetxt(fitness_path, x_fitness[np.argsort(-x_fitness_f)], '%10.5g')  #[np.argsortnya ini nambah dimensi]"
   ]
  },
  {
   "cell_type": "code",
   "execution_count": 9,
   "metadata": {},
   "outputs": [],
   "source": [
    "# delete all files in the path directory before launching\n",
    "def clear_path(folder):\n",
    "    os_folder = os.listdir(folder)\n",
    "    if os_folder:\n",
    "        for f in os_folder:\n",
    "            os.remove(os.path.join(folder, f))\n",
    "        print(\"Parameters' path is cleared!\")\n",
    "    else:\n",
    "        print(\"Parameters' path is already clear!\")"
   ]
  },
  {
   "cell_type": "code",
   "execution_count": 10,
   "metadata": {},
   "outputs": [],
   "source": [
    "def init_pq(p_diag, q_diag):\n",
    "    p, q = [[0,]*25]*2\n",
    "    for i,j in enumerate(range(0,25,6)):\n",
    "        p[j], q[j] = p_diag[i], q_diag[i]\n",
    "    return p, q"
   ]
  },
  {
   "cell_type": "code",
   "execution_count": 11,
   "metadata": {},
   "outputs": [
    {
     "name": "stdout",
     "output_type": "stream",
     "text": [
      "12\n",
      "asdsad\n",
      "fitness\n"
     ]
    }
   ],
   "source": [
    "to_load = ['12','asdsad'] + ['fitness']\n",
    "to_load\n",
    "for load in to_load:\n",
    "    print(load)"
   ]
  },
  {
   "cell_type": "code",
   "execution_count": 13,
   "metadata": {},
   "outputs": [],
   "source": [
    "def load_from_path(to_load):\n",
    "    vars = {}\n",
    "    for load in to_load:\n",
    "        vars[load] = np.loadtxt(path[load], ndmin=2)\n",
    "    return vars"
   ]
  },
  {
   "cell_type": "code",
   "execution_count": 14,
   "metadata": {},
   "outputs": [
    {
     "ename": "NameError",
     "evalue": "name 'path' is not defined",
     "output_type": "error",
     "traceback": [
      "\u001b[0;31m---------------------------------------------------------------------------\u001b[0m",
      "\u001b[0;31mNameError\u001b[0m                                 Traceback (most recent call last)",
      "\u001b[0;32m<ipython-input-14-012ab3a6b187>\u001b[0m in \u001b[0;36m<module>\u001b[0;34m()\u001b[0m\n\u001b[0;32m----> 1\u001b[0;31m \u001b[0mpath\u001b[0m\u001b[0;34m\u001b[0m\u001b[0m\n\u001b[0m",
      "\u001b[0;31mNameError\u001b[0m: name 'path' is not defined"
     ]
    }
   ],
   "source": [
    "path"
   ]
  },
  {
   "cell_type": "code",
   "execution_count": 15,
   "metadata": {
    "scrolled": false
   },
   "outputs": [
    {
     "name": "stdout",
     "output_type": "stream",
     "text": [
      "Parameters' path is cleared!\n",
      "----------------------------------------------------------------------------------------------------\n",
      "Generasi ke-1 dari 1000\n",
      "... logging to /home/win/.ros/log/81f00600-9f3c-11eb-bd8b-f0038c0a96db/roslaunch-win-ubuntu-32723.log\n",
      "Checking log directory for disk usage. This may take a while.\n",
      "Press Ctrl-C to interrupt\n",
      "Done checking log file disk usage. Usage is <1GB.\n",
      "\u001b]2;/home/win/awin_ws/src/robot_localization/awin/ukf_ule_ga.launch\u0007\n",
      "\u001b[1mstarted roslaunch server http://win-ubuntu:37119/\u001b[0m\n",
      "\n",
      "SUMMARY\n",
      "========\n",
      "\n",
      "CLEAR PARAMETERS\n",
      " * /rosbag_play/\n",
      " * /rosbag_record/\n",
      "\n",
      "PARAMETERS\n",
      " * /R_gnss: [0.09843, 0, 0, 0...\n",
      " * /R_imu: 1.894e-06\n",
      " * /R_tach: 5.538e-06\n",
      " * /initial_estimate_covariance_P: [10, 0, 0, 0, 0, ...\n",
      " * /kappa: -0.94149010276\n",
      " * /process_noise_covariance_Q: [10, 0, 0, 0, 0, ...\n",
      " * /rosdistro: melodic\n",
      " * /rosversion: 1.14.4\n",
      "\n",
      "NODES\n",
      "  /\n",
      "    rosbag_play (rosbag/play)\n",
      "    rosbag_record (rosbag/record)\n",
      "    ukf_ule (golfi/ukf_localization_2d)\n",
      "    utm (gps_common/utm_odometry_node)\n",
      "\n",
      "auto-starting new master\n",
      "\u001b[1mprocess[master]: started with pid [32733]\u001b[0m\n",
      "\u001b[1mROS_MASTER_URI=http://localhost:11311\u001b[0m\n",
      "\u001b]2;/home/win/awin_ws/src/robot_localization/awin/ukf_ule_ga.launch http://localhost:11311\u0007\n",
      "\u001b[1msetting /run_id to 81f00600-9f3c-11eb-bd8b-f0038c0a96db\u001b[0m\n",
      "\u001b[1mprocess[rosout-1]: started with pid [32744]\u001b[0m\n",
      "started core service [/rosout]\n",
      "\u001b[1mprocess[ukf_ule-2]: started with pid [32752]\u001b[0m\n",
      "\u001b[1mprocess[utm-3]: started with pid [32753]\u001b[0m\n",
      "\u001b[1mprocess[rosbag_play-4]: started with pid [32759]\u001b[0m\n",
      "\u001b[1mprocess[rosbag_record-5]: started with pid [32765]\u001b[0m\n",
      "\u001b[0m[ INFO] [1618636779.789037042]: Opening /home/win/ga/9okt_8_2.bag\u001b[0m\n",
      "\n",
      "Waiting 0.2 seconds after advertising topics... done.\n",
      "\n",
      "Hit space to toggle paused, or 's' to step.\n",
      " [RUNNING]  Bag Time: 1602219513.917215   Duration: 27.115709 / 27.155447               \n",
      "Done.\n",
      "\u001b[31m================================================================================REQUIRED process [rosbag_play-4] has died!\n",
      "process has finished cleanly\n",
      "log file: /home/win/.ros/log/81f00600-9f3c-11eb-bd8b-f0038c0a96db/rosbag_play-4*.log\n",
      "Initiating shutdown!\n",
      "================================================================================\u001b[0m\n",
      "[rosbag_record-5] killing on exit\n",
      "[rosbag_play-4] killing on exit\n",
      "[utm-3] killing on exit\n",
      "[ukf_ule-2] killing on exit\n",
      "[rosout-1] killing on exit\n",
      "[master] killing on exit\n",
      "shutting down processing monitor...\n",
      "... shutting down processing monitor complete\n",
      "\u001b[1mdone\u001b[0m\n",
      "rmse: 0.0807280558474\n",
      "mae: 0.06457365350323488\n"
     ]
    },
    {
     "data": {
      "image/png": "[encoded data removed]",
      "text/plain": [
       "<Figure size 720x720 with 1 Axes>"
      ]
     },
     "metadata": {
      "needs_background": "light"
     },
     "output_type": "display_data"
    },
    {
     "name": "stdout",
     "output_type": "stream",
     "text": [
      "----------------------------------------------------------------------------------------------------\n",
      "Generasi ke-2 dari 1000\n"
     ]
    },
    {
     "ename": "NameError",
     "evalue": "name 'oiyaa' is not defined",
     "output_type": "error",
     "traceback": [
      "\u001b[0;31m---------------------------------------------------------------------------\u001b[0m",
      "\u001b[0;31mNameError\u001b[0m                                 Traceback (most recent call last)",
      "\u001b[0;32m<ipython-input-15-196debed8b1b>\u001b[0m in \u001b[0;36m<module>\u001b[0;34m()\u001b[0m\n\u001b[1;32m     33\u001b[0m         \u001b[0mp\u001b[0m\u001b[0;34m,\u001b[0m\u001b[0mq\u001b[0m\u001b[0;34m,\u001b[0m\u001b[0mfitness\u001b[0m \u001b[0;34m=\u001b[0m \u001b[0mvar\u001b[0m\u001b[0;34m[\u001b[0m\u001b[0;34m'p'\u001b[0m\u001b[0;34m]\u001b[0m\u001b[0;34m,\u001b[0m\u001b[0mvar\u001b[0m\u001b[0;34m[\u001b[0m\u001b[0;34m'q'\u001b[0m\u001b[0;34m]\u001b[0m\u001b[0;34m,\u001b[0m\u001b[0mvar\u001b[0m\u001b[0;34m[\u001b[0m\u001b[0;34m'fitness'\u001b[0m\u001b[0;34m]\u001b[0m\u001b[0;34m\u001b[0m\u001b[0m\n\u001b[1;32m     34\u001b[0m         \u001b[0;31m#selection\u001b[0m\u001b[0;34m\u001b[0m\u001b[0;34m\u001b[0m\u001b[0m\n\u001b[0;32m---> 35\u001b[0;31m         \u001b[0moiyaa\u001b[0m\u001b[0;34m\u001b[0m\u001b[0m\n\u001b[0m\u001b[1;32m     36\u001b[0m         \u001b[0mn\u001b[0m \u001b[0;34m=\u001b[0m \u001b[0mmin\u001b[0m\u001b[0;34m(\u001b[0m\u001b[0;36m25\u001b[0m\u001b[0;34m,\u001b[0m \u001b[0mlen\u001b[0m\u001b[0;34m(\u001b[0m\u001b[0mp\u001b[0m\u001b[0;34m)\u001b[0m\u001b[0;34m)\u001b[0m \u001b[0;31m#defining the max number of the individuals in the population\u001b[0m\u001b[0;34m\u001b[0m\u001b[0m\n\u001b[1;32m     37\u001b[0m \u001b[0;34m\u001b[0m\u001b[0m\n",
      "\u001b[0;31mNameError\u001b[0m: name 'oiyaa' is not defined"
     ]
    }
   ],
   "source": [
    "# initializing the parameter values\n",
    "p_diagonals = [10, 10, 10, 10, 1]\n",
    "q_diagonals = [10, 10, 10, 10, 1]\n",
    "p_temp, q_temp = init_pq(p_diagonals, q_diagonals)\n",
    "\n",
    "# define the max number of generations\n",
    "temp_folder = \"/home/win/ga/path_GA/ga_tila/\"\n",
    "clear_path(temp_folder)\n",
    "\n",
    "params = ['p', 'q']\n",
    "errors_saved = ['error', 'error_bygen']\n",
    "temp_names = params + ['fitness'] + errors_saved\n",
    "to_load = params + ['fitness']\n",
    "\n",
    "# defining the filename for the values temps to be saved with\n",
    "path = {}\n",
    "for temp in temp_names:\n",
    "    path[temp] = temp_folder + temp + '_path.txt'\n",
    "\n",
    "generasi = 1000\n",
    "for g in range(1, generasi+1):\n",
    "    print(\"----------------------------------------------------------------------------------------------------\")\n",
    "    print(\"Generasi ke-\"+ str(g) + \" dari \" + str(generasi))\n",
    "\n",
    "    if os.path.exists(path['p']): # load the saved parameters after the 1st generation\n",
    "        p = np.loadtxt(path['p'], ndmin=2)\n",
    "        q = np.loadtxt(path['q'], ndmin=2)\n",
    "        fitness = np.loadtxt(path['fitness'], ndmin=2)\n",
    "        \n",
    "       \n",
    "        # backbone of GA under here\n",
    "        var = load_from_path(to_load)\n",
    "        p,q,fitness = var['p'],var['q'],var['fitness']\n",
    "        #selection\n",
    "        oiyaa\n",
    "        n = min(25, len(p)) #defining the max number of the individuals in the population\n",
    "        \n",
    "        batas_bawah=1e-03\n",
    "        daftar_parameter= [p[0],q[0]] #saving the (best?) parameters in p and q as an array\n",
    "        \n",
    "        #crossover (recombination of values)\n",
    "        if g > 2: #picking the parents for the crossover\n",
    "            indeks_ortu1,indeks_ortu2=random.sample(range(0, n), 2)\n",
    "            p_ortu=p[[indeks_ortu1,indeks_ortu2],:]\n",
    "            q_ortu=q[[indeks_ortu1,indeks_ortu2],:]\n",
    "            fitness_ortu=fitness[[indeks_ortu1,indeks_ortu2],:]\n",
    "            \n",
    "            w1=fitness_ortu[0]/(fitness_ortu[0]+fitness_ortu[1])\n",
    "            p, q = np.ones(25), np.ones(25)\n",
    "\n",
    "            for j in range(25):\n",
    "                pilih_ortu_p,pilih_ortu_q=np.random.random(),np.random.random()\n",
    "                p[j]=(pilih_ortu_p<=w1)*p_ortu[0,j]+(pilih_ortu_p>w1)*p_ortu[1,j]\n",
    "                q[j]=(pilih_ortu_q<=w1)*q_ortu[0,j]+(pilih_ortu_q>w1)*q_ortu[1,j]\n",
    "\n",
    "        #mutation\n",
    "        mp, s=0.8, 6 #mutation probability and the multiplying factor defined\n",
    "        if g < 25: #the initial population number defined here\n",
    "            mp,s=1,10 #for initial population, mutation is used to randomly pick the values around the inital values defines before\n",
    "        penjumlah=[]\n",
    "        \n",
    "        apakah_mutasi=np.random.random()\n",
    "        # condition of mutation existing\n",
    "        if apakah_mutasi<mp: \n",
    "            for a in range(10):\n",
    "                penjumlah.append((np.random.normal(0,1))) \n",
    "        # condition of mutation not existing\n",
    "        else:\n",
    "            penjumlah=np.zeros(10) #no addition for mutation\n",
    "        \n",
    "        m_p, m_q=np.zeros(25), np.zeros(25)\n",
    "\n",
    "        i=0\n",
    "        for b in range(0,25,6):\n",
    "            m_p[b]=penjumlah[i]\n",
    "            i+=1\n",
    "        for c in range(0,25,6):\n",
    "            m_q[c]=penjumlah[i]\n",
    "            i+=1\n",
    "            \n",
    "        p_temp = (p+m_p).flatten().tolist()\n",
    "        q_temp = (q+m_q).flatten().tolist()\n",
    "        \n",
    "        print(\"Matriks P generasi ke-\"+str(g+1)+\": \"+str(np.matrix(p_temp)))\n",
    "        for b in range(0,25,6):\n",
    "            if p_temp[b]<batas_bawah:\n",
    "                p_temp[b]=batas_bawah\n",
    "                \n",
    "        print(\"Matriks Q generasi ke-\"+str(g+1)+\": \"+str(np.matrix(q_temp)))\n",
    "        for c in range(0,25,6): #dibuat supaya q yaw tidak berubah\n",
    "            if q_temp[c]<batas_bawah:\n",
    "                q_temp[c]=batas_bawah\n",
    "            \n",
    "    #change the value of the parameter with the ones just acquired\n",
    "    change_params_yaml(p_temp,q_temp)\n",
    "    \n",
    "    #run the launch function\n",
    "    launch()\n",
    "    \n",
    "    # acquiring the fitness value by taking the estimation value from the temporary bag file (ga_temp.bag) and find the fitness from the error defined before\n",
    "    hasil_ukf, utm, t_state, t_utm = ambil_bag()\n",
    "\n",
    "    er_rmse, er_mae = err(hasil_ukf, utm, t_state, t_utm)\n",
    "    fit = 1/er_rmse\n",
    "    \n",
    "    #plot the estimation for every set of parameter values acquired\n",
    "    plot(hasil_ukf,utm)\n",
    "    \n",
    "    #saving the parameter values acquired\n",
    "    catat(p_temp,q_temp,er_rmse,fit,path['p'],path['q'],path['error'],\n",
    "          path['error_bygen'],path['fitness'])"
   ]
  },
  {
   "cell_type": "code",
   "execution_count": null,
   "metadata": {},
   "outputs": [],
   "source": [
    "print(\"Matriks P generasi ke-\"+str(g)+\": \")"
   ]
  },
  {
   "cell_type": "code",
   "execution_count": null,
   "metadata": {
    "scrolled": false
   },
   "outputs": [],
   "source": [
    "fit"
   ]
  },
  {
   "cell_type": "code",
   "execution_count": null,
   "metadata": {
    "scrolled": false
   },
   "outputs": [],
   "source": []
  },
  {
   "cell_type": "code",
   "execution_count": null,
   "metadata": {
    "scrolled": false
   },
   "outputs": [],
   "source": []
  },
  {
   "cell_type": "code",
   "execution_count": null,
   "metadata": {
    "scrolled": false
   },
   "outputs": [],
   "source": []
  },
  {
   "cell_type": "code",
   "execution_count": null,
   "metadata": {
    "scrolled": false
   },
   "outputs": [],
   "source": []
  },
  {
   "cell_type": "code",
   "execution_count": null,
   "metadata": {
    "scrolled": false
   },
   "outputs": [],
   "source": []
  },
  {
   "cell_type": "code",
   "execution_count": null,
   "metadata": {
    "scrolled": false
   },
   "outputs": [],
   "source": []
  },
  {
   "cell_type": "code",
   "execution_count": null,
   "metadata": {
    "scrolled": false
   },
   "outputs": [],
   "source": []
  },
  {
   "cell_type": "code",
   "execution_count": null,
   "metadata": {
    "scrolled": false
   },
   "outputs": [],
   "source": []
  },
  {
   "cell_type": "code",
   "execution_count": null,
   "metadata": {
    "scrolled": false
   },
   "outputs": [],
   "source": []
  },
  {
   "cell_type": "code",
   "execution_count": null,
   "metadata": {
    "scrolled": false
   },
   "outputs": [],
   "source": []
  },
  {
   "cell_type": "code",
   "execution_count": null,
   "metadata": {
    "scrolled": false
   },
   "outputs": [],
   "source": []
  },
  {
   "cell_type": "code",
   "execution_count": null,
   "metadata": {
    "scrolled": false
   },
   "outputs": [],
   "source": []
  }
 ],
 "metadata": {
  "kernelspec": {
   "display_name": "Python 3",
   "language": "python",
   "name": "python3"
  },
  "language_info": {
   "codemirror_mode": {
    "name": "ipython",
    "version": 2
   },
   "file_extension": ".py",
   "mimetype": "text/x-python",
   "name": "python",
   "nbconvert_exporter": "python",
   "pygments_lexer": "ipython2",
   "version": "2.7.17"
  }
 },
 "nbformat": 4,
 "nbformat_minor": 2
}
